{
 "cells": [
  {
   "cell_type": "code",
   "execution_count": 45,
   "metadata": {},
   "outputs": [],
   "source": [
    "import os\n",
    "import time\n",
    "import zipfile\n",
    "import pandas as pd\n",
    "from selenium import webdriver\n",
    "from selenium.webdriver.common.by import By\n",
    "from selenium.webdriver.support.ui import WebDriverWait\n",
    "from selenium.webdriver.support import expected_conditions as EC"
   ]
  },
  {
   "cell_type": "markdown",
   "metadata": {},
   "source": [
    "Buenos días, el cliente nos ha dado nuevos detalles sobre la prueba, me gustaría que me confirmaras que tu prueba está completa con estos detalles, si es así perfecto, si no, puedes realizar lo que te falte y me envías nuevamente para revisar, a continuación la información:\n",
    "\n",
    "- Deben ser desarrollados los siguientes puntos completamente en python\n",
    "\n",
    "1. Ir a:\n",
    "\n",
    "https://cde.ucr.cjis.gov/LATEST/webapp/#/pages/home\n",
    "\n",
    "2. Sección \"Documents & Downloads\"\n",
    "\n",
    "3. En la sección \"National Incident-Based Reporting System (NIBRS) Tables\" elegir table: Victims, año: 2022, location: Florida\n",
    "\n",
    "4. Descargar archivo\n",
    "\n",
    "5. Con pandas leer zip y elegir el archivo: Victims_Age_by_Offense_Category_2022.xlsx\n",
    "\n",
    "6. Elegir categoria Crimes Against Property y generar csv sin totales, footer, ni index\n",
    "\n",
    "- Se requiere un código que ejecute todas las partes, desde el webscraping hasta la generación del archivo csv, debe entregar el código completo y el archivo resultado.\n",
    "\n",
    "\n",
    "\n",
    "Quedo atento, muchas gracias por tu tiempo"
   ]
  },
  {
   "cell_type": "code",
   "execution_count": 40,
   "metadata": {},
   "outputs": [
    {
     "name": "stdout",
     "output_type": "stream",
     "text": [
      "Se hizo clic en el botón 'Go'\n"
     ]
    }
   ],
   "source": [
    "\n",
    "# Configuro el driver se selenium\n",
    "driver = webdriver.Chrome()\n",
    "\n",
    "# Abro la web\n",
    "url = 'https://cde.ucr.cjis.gov/LATEST/webapp/#/pages/home'\n",
    "driver.get(url)\n",
    "\n",
    "try:\n",
    "    # Espera un máximo de 6 segundos para encontrar el botón 'Go' y luego haz clic en él\n",
    "    WebDriverWait(driver, 6).until(\n",
    "        EC.element_to_be_clickable((By.ID, 'home-dwnload-go-btn'))\n",
    "    ).click()\n",
    "\n",
    "    # Espera un máximo de 4 segundos para encontrar y hacer clic en el primer dropdown\n",
    "    dropdown = WebDriverWait(driver, 4).until(\n",
    "        EC.element_to_be_clickable((By.ID, 'dwnnibrs-download-select'))\n",
    "    )\n",
    "    dropdown.click()\n",
    "\n",
    "    # Selecciona la opción 'Victims' dentro del primer dropdown\n",
    "    option_victims = WebDriverWait(driver, 2).until(\n",
    "        EC.element_to_be_clickable((By.XPATH, \"//nb-option[contains(text(), 'Victims')]\"))\n",
    "    )\n",
    "    option_victims.click()\n",
    "\n",
    "    # El ano 2022 viene seleccionado por defecto, por esa razon, no se lo selecciona por medio de funciones.\n",
    "\n",
    "    # Espera un máximo de 3 segundos para encontrar y hacer clic en el segundo dropdown\n",
    "    dropdown_2 = WebDriverWait(driver, 3).until(\n",
    "        EC.element_to_be_clickable((By.XPATH, \"//nb-select[@id='dwnnibrsloc-select']\"))\n",
    "    )\n",
    "    dropdown_2.click()\n",
    "\n",
    "    # Encuentra y haz clic en la opción \"Florida\" en el segundo menú desplegable\n",
    "    option_florida = WebDriverWait(driver, 2).until(\n",
    "        EC.element_to_be_clickable((By.XPATH, \"//nb-option[contains(text(), 'Florida')]\"))\n",
    "    )\n",
    "    option_florida.click()\n",
    "\n",
    "    # Espera un máximo de 3 segundos para encontrar y hacer clic en el botón de descarga\n",
    "    WebDriverWait(driver, 3).until(\n",
    "        EC.element_to_be_clickable((By.ID, 'nibrs-download-button'))\n",
    "    ).click()\n",
    "\n",
    "    time.sleep(5)  # Espera 5 segundos para permitir la descarga\n",
    "    \n",
    "    print('Se descargo el archivo')\n",
    "    \n",
    "except Exception as e:\n",
    "    print(\"No se pudo realizar la selección:\", e)\n",
    "\n",
    "# Cierra el navegador cuando hayas terminado\n",
    "driver.quit()"
   ]
  },
  {
   "cell_type": "code",
   "execution_count": 41,
   "metadata": {},
   "outputs": [
    {
     "data": {
      "text/plain": [
       "['C:\\\\Users\\\\jonat\\\\Downloads\\\\victims.zip']"
      ]
     },
     "execution_count": 41,
     "metadata": {},
     "output_type": "execute_result"
    }
   ],
   "source": [
    "\n",
    "# Función para obtener las carpetas de descargas según el sistema operativo\n",
    "def obtener_carpetas_descargas():\n",
    "    sistema_operativo = os.name\n",
    "    if sistema_operativo == 'posix':  # Sistema tipo Unix (Linux, macOS, etc.)\n",
    "        return [os.path.expanduser('~/Downloads')]\n",
    "    elif sistema_operativo == 'nt':  # Windows\n",
    "        return [os.path.join(os.environ['USERPROFILE'], 'Downloads')]\n",
    "    else:\n",
    "        return []\n",
    "\n",
    "# Función para buscar el archivo en las carpetas de descargas\n",
    "def buscar_archivo_en_carpetas(nombre_archivo, carpetas):\n",
    "    archivos_encontrados = []\n",
    "    for carpeta in carpetas:\n",
    "        for ruta_carpeta, _, archivos in os.walk(carpeta):\n",
    "            if nombre_archivo in archivos:\n",
    "                archivos_encontrados.append(os.path.join(ruta_carpeta, nombre_archivo))\n",
    "    return archivos_encontrados\n",
    "\n",
    "# Nombre del archivo que estoy buscando\n",
    "nombre_archivo = 'victims.zip'\n",
    "\n",
    "# Obtener las carpetas de descargas según el sistema operativo\n",
    "carpetas_descargas = obtener_carpetas_descargas()\n",
    "\n",
    "# Buscar el archivo en las carpetas de descargas\n",
    "archivos_encontrados = buscar_archivo_en_carpetas(nombre_archivo, carpetas_descargas)"
   ]
  },
  {
   "cell_type": "code",
   "execution_count": 42,
   "metadata": {},
   "outputs": [],
   "source": [
    "# Abre el archivo ZIP en modo lectura\n",
    "with zipfile.ZipFile(archivos_encontrados[0], 'r') as archivo_zip:\n",
    "    \n",
    "    lista_contenidos = archivo_zip.namelist()\n",
    "    # Extraer archivo\n",
    "    archivo_zip.extract('Victims_Age_by_Offense_Category_2022.xlsx')\n",
    "    \n",
    "print('Se descomprimio el archivo')"
   ]
  },
  {
   "cell_type": "code",
   "execution_count": 47,
   "metadata": {},
   "outputs": [],
   "source": [
    "# Lee el archivo Victims_Age_by_Offense_Category_2022.xlsx y lo almacena en un DataFrame llamado 'victims'\n",
    "victims = pd.read_excel('Victims_Age_by_Offense_Category_2022.xlsx')\n",
    "\n",
    "# Elimina las dos primeras filas del DataFrame 'victims'\n",
    "victims.drop(victims.index[:2], inplace=True)\n",
    "\n",
    "# Elimina la última fila del DataFrame 'victims'\n",
    "victims.drop(victims.index[-1], inplace=True)\n",
    "\n",
    "# Selecciona la tercera fila del DataFrame 'victims' y la almacena en 'indice_age'\n",
    "indice_age = victims.iloc[1].values[2:]\n",
    "\n",
    "# Convierte 'indice_age' en una lista y agrega dos elementos al principio de la lista\n",
    "indice_age = [x for x in indice_age]\n",
    "indice_age.insert(0,'Total_Victims')\n",
    "indice_age.insert(0,'Offense Category')\n",
    "\n",
    "# Reemplaza los saltos de línea en la lista 'indice_age' si el elemento es una cadena de texto\n",
    "indice_age = [columna.replace('\\n', ' ') if isinstance(columna, str) else columna for columna in indice_age]\n",
    "\n",
    "# Filtra el DataFrame 'victims' donde la columna 'Victims' es igual a 'Crimes Against Property' y crea una copia\n",
    "Crimes_Against_Property = victims.loc[victims['Victims'] == 'Crimes Against Property'].copy()\n",
    "\n",
    "# Renombra las columnas del DataFrame 'Crimes_Against_Property' con los elementos de 'indice_age'\n",
    "Crimes_Against_Property.columns = indice_age[0:len(Crimes_Against_Property.columns)]\n",
    "\n",
    "# Elimina la columna 'Total_Victims' del DataFrame 'Crimes_Against_Property'\n",
    "Crimes_Against_Property.drop(columns=['Total_Victims'], inplace=True)\n",
    "\n",
    "# Transpone el DataFrame 'Crimes_Against_Property'\n",
    "Crimes_Against_Property = Crimes_Against_Property.transpose()\n",
    "\n",
    "# Elimina la primera fila del DataFrame 'Crimes_Against_Property'\n",
    "Crimes_Against_Property.drop(Crimes_Against_Property.index[0], inplace=True)\n",
    "\n",
    "# Renombra las columnas del DataFrame 'Crimes_Against_Property' como 'Crimes Against Property'\n",
    "Crimes_Against_Property.columns = ['Crimes Against Property']\n",
    "\n",
    "# Renombra el índice del DataFrame 'Crimes_Against_Property' como 'Age'\n",
    "Crimes_Against_Property = Crimes_Against_Property.rename_axis('Age')\n",
    "\n",
    "# Guarda el DataFrame 'Crimes_Against_Property' como un archivo CSV llamado 'Crimes_Against_Property.csv'\n",
    "Crimes_Against_Property.to_csv('Crimes_Against_Property.csv')\n",
    "\n",
    "print('El archivo resultante tiene el nombre de \"Crimes_Against_Property.csv\"')"
   ]
  }
 ],
 "metadata": {
  "kernelspec": {
   "display_name": "Python 3",
   "language": "python",
   "name": "python3"
  },
  "language_info": {
   "codemirror_mode": {
    "name": "ipython",
    "version": 3
   },
   "file_extension": ".py",
   "mimetype": "text/x-python",
   "name": "python",
   "nbconvert_exporter": "python",
   "pygments_lexer": "ipython3",
   "version": "3.11.7"
  }
 },
 "nbformat": 4,
 "nbformat_minor": 2
}
